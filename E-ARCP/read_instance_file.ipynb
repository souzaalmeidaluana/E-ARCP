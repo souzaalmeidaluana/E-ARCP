{
 "cells": [
  {
   "cell_type": "code",
   "execution_count": null,
   "id": "5ac27312",
   "metadata": {},
   "outputs": [],
   "source": [
    "def get_indexes(lines):\n",
    "    \"\"\"This function reads the instance file and identifies the start and stop indexes of the lines \n",
    "    with the network dimension, depot id, coordinates, edges, unblocking times, components, relative prizes,\n",
    "    and the teams located in each depot\"\"\"\n",
    "    all_depots = []\n",
    "    for l in range(len(lines)):\n",
    "        line = lines[l]\n",
    "        if line[:11] == \"DIMENSION: \":\n",
    "            nodes = int(line[11:])\n",
    "        if line[:10] == \"DEPOT_ID: \":\n",
    "            all_depots_string = list(line[11:-2].split(\", \"))\n",
    "            all_depots = [int(i) for i in all_depots_string]\n",
    "        if line[:18] == \"NODE_COORD_SECTION\":\n",
    "            coordinates_start = copy.deepcopy(l)+1\n",
    "        if line[:30] == \"LIST_OF_ALL_EDGES_DATA_SECTION\":\n",
    "            coordinates_end = copy.deepcopy(l)-1\n",
    "            list_of_edges_start = copy.deepcopy(l)+1\n",
    "        if line[:50] == \"DAMAGED_EDGES_DATA_SECTION (EDGE, UNBLOCKING TIME)\":\n",
    "            list_of_edges_end = copy.deepcopy(l)-1\n",
    "            damaged_edges_start = copy.deepcopy(l)+1\n",
    "        if line[:10] == \"COMPONENTS\":\n",
    "            damaged_edges_end = copy.deepcopy(l)-1\n",
    "            components_start = copy.deepcopy(l)+1\n",
    "        if line[:15] == \"RELATIVE PRIZES\":\n",
    "            components_end = copy.deepcopy(l)-1\n",
    "            prizes_start = copy.deepcopy(l)+1\n",
    "        if line[:33] == \"TEAMS PER DEPOT (DEPOT_ID, TEAMS)\":\n",
    "            prizes_end = copy.deepcopy(l)-1\n",
    "            teams_depot_start = copy.deepcopy(l)+1\n",
    "    teams_depot_end = len(lines)-1\n",
    "    \n",
    "    return nodes, all_depots, coordinates_start, coordinates_end, list_of_edges_start, list_of_edges_end, damaged_edges_start, damaged_edges_end, prizes_start, prizes_end, teams_depot_start, teams_depot_end, components_start, components_end"
   ]
  },
  {
   "cell_type": "code",
   "execution_count": 1,
   "id": "191cdd0d",
   "metadata": {},
   "outputs": [],
   "source": [
    "def get_coordinates(lines, coordinates_start, coordinates_end):\n",
    "    \"\"\"This function reads the coordinates in the instance file and converts to matrix form\"\"\"\n",
    "    coordinates = []\n",
    "    for i in range(coordinates_start, coordinates_end+1):\n",
    "        #Remove the \"\\n\" from the string\n",
    "        coordinates_string = list(lines[i][0:-1].split(\"\\t\"))\n",
    "        #Convert the string to float numbers\n",
    "        x_coord = float(coordinates_string[1])\n",
    "        y_coord = float(coordinates_string[2])\n",
    "        #Append the coordinates in the list of coordinates\n",
    "        coordinates.append([x_coord, y_coord]) \n",
    "    return coordinates"
   ]
  },
  {
   "cell_type": "code",
   "execution_count": 2,
   "id": "e27fa28f",
   "metadata": {},
   "outputs": [],
   "source": [
    "def get_edges(lines, list_of_edges_start, list_of_edges_end):\n",
    "    \"\"\"This function reads the instance file and creates the list of edges in the network\"\"\"\n",
    "    #Create an empty list\n",
    "    list_of_edges = []\n",
    "    for i in range(list_of_edges_start, list_of_edges_end+1):\n",
    "        #Remove the \"\\n\" from the string\n",
    "        list_of_edges_string = list(lines[i][0:-1].split(\"\\t\"))\n",
    "        #Convert the string to int numbers\n",
    "        node_1 = int(list_of_edges_string[0])\n",
    "        node_2 = int(list_of_edges_string[1])\n",
    "        #Append the edge to the list of edges\n",
    "        list_of_edges.append([node_1, node_2])\n",
    "    return list_of_edges "
   ]
  },
  {
   "cell_type": "code",
   "execution_count": 3,
   "id": "7c6faaf2",
   "metadata": {},
   "outputs": [],
   "source": [
    "def get_damaged_edges(lines, damaged_edges_start, damaged_edges_end):\n",
    "    \"\"\"This function reads the instance file and creates the list of damaged edges and their unblocking times\"\"\"\n",
    "    #Create an empty list\n",
    "    damaged_edges = []\n",
    "    for i in range(damaged_edges_start, damaged_edges_end+1):\n",
    "        #Remove the \"\\n\" from the string\n",
    "        damaged_edges_string = list(lines[i][0:-1].split(\"\\t\"))\n",
    "        #Convert the string to int numbers\n",
    "        node_1 = int(damaged_edges_string[0])\n",
    "        node_2 = int(damaged_edges_string[1])\n",
    "        time = float(damaged_edges_string[2])\n",
    "        damaged_edges.append([node_1, node_2, time])\n",
    "    return damaged_edges"
   ]
  },
  {
   "cell_type": "code",
   "execution_count": 4,
   "id": "17aff4bc",
   "metadata": {},
   "outputs": [],
   "source": [
    "def get_prizes(lines, prizes_start, prizes_end):\n",
    "    \"\"\"This function reads the instance file and creates the list of relative prizes\"\"\"\n",
    "    #Create an empty list\n",
    "    relative_prizes = []\n",
    "    for i in range(prizes_start, prizes_end+1):\n",
    "        #Remove the \"\\n\" from the string\n",
    "        relative_prizes_string = list(lines[i][0:-1].split(\"\\t\"))\n",
    "        #Convert the string to int numbers\n",
    "        node_1 = int(relative_prizes_string[0])\n",
    "        node_2 = int(relative_prizes_string[1])\n",
    "        prize = int(relative_prizes_string[2])\n",
    "        relative_prizes.append([node_1, node_2, prize])\n",
    "    return relative_prizes"
   ]
  },
  {
   "cell_type": "code",
   "execution_count": 5,
   "id": "6a69145b",
   "metadata": {},
   "outputs": [],
   "source": [
    "def get_teams_depot(lines, teams_depot_start, teams_depot_end):\n",
    "    \"\"\"This function reads the instance file and creates the list the teams' depots\"\"\"\n",
    "    #Create an empty list\n",
    "    teams_depot = []\n",
    "    for i in range(teams_depot_start, teams_depot_end+1):\n",
    "        #Remove the \"\\n\" from the string\n",
    "        teams_depot_string = list(lines[i][0:-1].split(\"\\t\"))\n",
    "        #Convert the string to int numbers\n",
    "        node = int(teams_depot_string[0])\n",
    "        teams = int(teams_depot_string[1])\n",
    "        teams_depot.append([node, teams])\n",
    "    return teams_depot"
   ]
  },
  {
   "cell_type": "code",
   "execution_count": 6,
   "id": "82e98882",
   "metadata": {},
   "outputs": [],
   "source": [
    "def get_components(lines, components_start, components_end):\n",
    "    \"\"\"This function reads the instance file and creates the list of components\"\"\"\n",
    "    #Create an empty list\n",
    "    all_components = []\n",
    "    for i in range(components_start, components_end+1):\n",
    "        #Remove the \"\\n\" from the string\n",
    "        components_string = list(lines[i][1:-2].split(\"\\t\"))\n",
    "        component = list(components_string[1][1:].split(\",\"))\n",
    "        all_components.append([int(i) for i in component])\n",
    "    return all_components"
   ]
  },
  {
   "cell_type": "code",
   "execution_count": 7,
   "id": "a87e5a1c",
   "metadata": {},
   "outputs": [],
   "source": [
    "def retrieve_file_data(instance_name):\n",
    "    \"\"\"This function opens the instance file and retrive all the data\"\"\"\n",
    "    with open(instance_name+'.txt') as f:\n",
    "        lines = f.readlines()\n",
    "        nodes, all_depots, coordinates_start, coordinates_end, list_of_edges_start, list_of_edges_end, damaged_edges_start, damaged_edges_end, prizes_start, prizes_end, teams_depot_start, teams_depot_end, components_start, components_end = get_indexes(lines) \n",
    "        coordinates = get_coordinates(lines, coordinates_start, coordinates_end)\n",
    "        list_of_edges = get_edges(lines, list_of_edges_start, list_of_edges_end)\n",
    "        damaged_edges = get_damaged_edges(lines, damaged_edges_start, damaged_edges_end)\n",
    "        relative_prizes = get_prizes(lines, prizes_start, prizes_end)\n",
    "        components = get_components(lines, components_start, components_end)\n",
    "        teams_depot = get_teams_depot(lines, teams_depot_start, teams_depot_end)\n",
    "        \n",
    "    return nodes, all_depots, coordinates, list_of_edges, damaged_edges, relative_prizes, teams_depot, components"
   ]
  },
  {
   "cell_type": "code",
   "execution_count": null,
   "id": "9b5825a1",
   "metadata": {},
   "outputs": [],
   "source": []
  }
 ],
 "metadata": {
  "kernelspec": {
   "display_name": "Python 3 (ipykernel)",
   "language": "python",
   "name": "python3"
  },
  "language_info": {
   "codemirror_mode": {
    "name": "ipython",
    "version": 3
   },
   "file_extension": ".py",
   "mimetype": "text/x-python",
   "name": "python",
   "nbconvert_exporter": "python",
   "pygments_lexer": "ipython3",
   "version": "3.9.7"
  }
 },
 "nbformat": 4,
 "nbformat_minor": 5
}
