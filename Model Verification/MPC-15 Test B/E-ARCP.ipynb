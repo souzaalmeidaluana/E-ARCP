{
 "cells": [
  {
   "cell_type": "markdown",
   "id": "9df1873d",
   "metadata": {},
   "source": [
    "## Libraries"
   ]
  },
  {
   "cell_type": "code",
   "execution_count": 1,
   "id": "3acc454c",
   "metadata": {},
   "outputs": [],
   "source": [
    "import numpy as np\n",
    "from pulp import *\n",
    "\n",
    "import copy\n",
    "import math\n",
    "import time\n",
    "import datetime\n",
    "from input_data import instance_name, speed, t_max, display_results\n",
    "from input_data import processing_time_limit, solver\n",
    "from input_data import nodesize, nodecolor, nodeboundary, team_color, open_road_color,closed_road_color\n",
    "from read_instance_file import retrieve_file_data\n",
    "from MPC_ARCP_visualization import get_f_values, organize_teams_routes, save_RC_variables, data_visualization"
   ]
  },
  {
   "cell_type": "markdown",
   "id": "e7214486",
   "metadata": {},
   "source": [
    "# 1) Input data processing"
   ]
  },
  {
   "cell_type": "code",
   "execution_count": 2,
   "id": "07c17e04",
   "metadata": {},
   "outputs": [],
   "source": [
    "def create_traversing_time_matrix(n, coordinates, list_of_edges,speed):\n",
    "    \"\"\"This function creates a matrix with the euclidean distance of each pair of vertices\"\"\"\n",
    "    #Create an empty traversing matrix \n",
    "    traversing_time = np.array([[np.inf for i in range(n+1)] for i in range(n+1)])\n",
    "    \n",
    "    #Calculate the euclidean distance for each pair of nodes\n",
    "    for edge in list_of_edges:\n",
    "        #Define the nodes\n",
    "        n1 = edge[0]\n",
    "        n2 = edge[1]\n",
    "        #Identify the coordinates of node 1 (n1)\n",
    "        x1 = coordinates[n1][0]\n",
    "        y1 = coordinates[n1][1]\n",
    "        #Identify the coordinates of node 2 (n2)\n",
    "        x2 = coordinates[n2][0]\n",
    "        y2 = coordinates[n2][1]\n",
    "        #Calculate the Euclidean distance\n",
    "        d = round(math.sqrt(((x2-x1)**2 + (y2-y1)**2))/speed,2)\n",
    "        traversing_time[n1,n2] = d\n",
    "    \n",
    "    #Update the last column of the traversing_time to allow going to the sink node\n",
    "    for i in range(n):\n",
    "        traversing_time[i, n] = 0\n",
    "    return traversing_time   "
   ]
  },
  {
   "cell_type": "code",
   "execution_count": 3,
   "id": "afc0aba5",
   "metadata": {},
   "outputs": [],
   "source": [
    "def unblocking_time_matrix(n, damaged_edges):\n",
    "    \"\"\"This function converts the information of the blocked edges into matrix form\"\"\"\n",
    "    #Create an empty unblocking time matrix \n",
    "    unblocking_time = np.array([[float(0) for i in range(n+1)] for i in range(n+1)])\n",
    "    \n",
    "    #Update the unblocking time for each damaged edge\n",
    "    for edge in damaged_edges:\n",
    "        #Define the nodes\n",
    "        n1 = edge[0]\n",
    "        n2 = edge[1]\n",
    "        #Retrieve the unblocking time\n",
    "        unblocking_time[n1, n2] = edge[2]\n",
    "    return unblocking_time"
   ]
  },
  {
   "cell_type": "code",
   "execution_count": 4,
   "id": "fa22f30b",
   "metadata": {},
   "outputs": [],
   "source": [
    "def relative_prizes_matrix(relative_prizes, components):\n",
    "    \"\"\"This function converts the information of the components prizes into matrix form\"\"\"\n",
    "    #Create an empty matrix\n",
    "    pqq = np.array([[0 for _ in range(len(components))] for _ in range(len(components))])\n",
    "    \n",
    "    #Update the matrix with the relative prizes\n",
    "    for prize in relative_prizes:\n",
    "        i = prize[0]\n",
    "        j = prize[1]\n",
    "        pqq[i,j] = prize[2]  \n",
    "    return pqq"
   ]
  },
  {
   "cell_type": "markdown",
   "id": "e85448e3",
   "metadata": {},
   "source": [
    "# 3) Mixed Integer Programming Model"
   ]
  },
  {
   "cell_type": "code",
   "execution_count": 5,
   "id": "af89850c",
   "metadata": {},
   "outputs": [],
   "source": [
    "#Initialize LP\n",
    "MPC_ARCP = LpProblem(\"MPC-ARCP\", LpMaximize)\n",
    "\n",
    "#Retrieve data from the instance file\n",
    "nodes, all_depots, coordinates, list_of_edges, damaged_edges, relative_prizes, teams_depot, components = retrieve_file_data(instance_name)"
   ]
  },
  {
   "cell_type": "markdown",
   "id": "deed1934",
   "metadata": {},
   "source": [
    "## 3.1) Sets and parameters"
   ]
  },
  {
   "cell_type": "code",
   "execution_count": 6,
   "id": "4e229a3c",
   "metadata": {},
   "outputs": [],
   "source": [
    "#Create list of every team's depot\n",
    "D = []\n",
    "for i in range(len(teams_depot)):\n",
    "    depot = teams_depot[i][0]\n",
    "    for j in range(teams_depot[i][1]):\n",
    "        D.append(depot)\n",
    "\n",
    "#Number of teams\n",
    "nb_teams = len(D)\n",
    "\n",
    "#n = number of nodes (sink + communities/roads) (0...n-1)\n",
    "n = copy.deepcopy(nodes)\n",
    "\n",
    "#sink node\n",
    "sink = copy.deepcopy(n)\n",
    "\n",
    "#Traversing times\n",
    "cij = create_traversing_time_matrix(n, coordinates, list_of_edges, speed)\n",
    "\n",
    "#Unblocking times\n",
    "bij = unblocking_time_matrix(n, damaged_edges)\n",
    "\n",
    "#Pqq = Relative Prizes of components\n",
    "Pqq = relative_prizes_matrix(relative_prizes, components)\n",
    "\n",
    "#Set of components\n",
    "Q = [i for i in range(len(components))]\n",
    "\n",
    "#QQ = Combination of components\n",
    "QQ = [(i,j) for i in range(len(components)) for j in range(len(components))]\n",
    "\n",
    "#Set of nodes in each component\n",
    "Vq = components\n",
    "\n",
    "#Set of available teams\n",
    "K = [i for i in range(nb_teams)]\n",
    "\n",
    "#Set of all the edges in the network\n",
    "E = [(i,j) for i in range(n+1) \n",
    "      for j in range(n+1) \n",
    "      if cij[i,j] != np.inf]\n",
    "\n",
    "#Set of all the edges in the network, except the artificial edges connecting the sink vertex\n",
    "E_no_sink = [(i,j) for i in range(n) \n",
    "      for j in range(n) \n",
    "      if cij[i,j] != np.inf]\n",
    "\n",
    "\n",
    "#Set of all the edges (i,j) combined with the teams k\n",
    "Ek = [(i,j,k) for k in K\n",
    "      for i in range(n+1) \n",
    "      for j in range(n+1) \n",
    "      if cij[i,j] != np.inf]\n",
    "\n",
    "#Combination of two edges in set E: (i,j) with (j,l)\n",
    "EE = [(i,j,l) for i in range(n+1) \n",
    "      for j in range(n+1) \n",
    "      for l in range(n+1) \n",
    "      if cij[i,j] != np.inf\n",
    "     if cij[j,l] != np.inf]\n",
    "\n",
    "#Combination of two edges in set E: (i,j) with (j,l) for every team k\n",
    "EEk = [(i,j,l,k) for k in K \n",
    "      for i in range(n+1) \n",
    "      for j in range(n+1) \n",
    "      for l in range(n+1) \n",
    "      if cij[i,j] != np.inf\n",
    "     if cij[j,l] != np.inf]\n",
    "\n",
    "#Set of blocked edges\n",
    "B = [(i,j) for i in range(n+1) \n",
    "      for j in range(n+1) \n",
    "      if bij[i,j] != 0]\n",
    "\n",
    "#Set of blocked edges combined with every team k\n",
    "Bk = [(i,j, k) for k in K \n",
    "     for i in range(n+1) \n",
    "      for j in range(n+1) \n",
    "      if bij[i,j] != 0]\n",
    "\n",
    "#Set of vertices\n",
    "V = [i for i in range(n+1)]\n",
    "\n",
    "#Set of vertices combined with every team k\n",
    "Vk = [(i,k) for k in K for i in range(n+1)]\n",
    "\n",
    "#M_time = big positive number used in the time constraints\n",
    "M_time = 0\n",
    "for i in range(len(cij)):\n",
    "    for j in range(len(cij)):\n",
    "        if i != j:\n",
    "            if cij[i,j] != np.inf:\n",
    "                M_time += cij[i,j]\n",
    "for i in range(len(bij)):\n",
    "    for j in range(len(bij)):\n",
    "        M_time += bij[i,j]"
   ]
  },
  {
   "cell_type": "code",
   "execution_count": 7,
   "id": "f16e9fe8",
   "metadata": {},
   "outputs": [],
   "source": [
    "#Start the time performance counter\n",
    "start_time = time.perf_counter()"
   ]
  },
  {
   "cell_type": "markdown",
   "id": "53f7556d",
   "metadata": {},
   "source": [
    "## 3.2) Decision Variables"
   ]
  },
  {
   "cell_type": "code",
   "execution_count": 8,
   "id": "cca2d44d",
   "metadata": {},
   "outputs": [],
   "source": [
    "y = LpVariable.dicts(\"y\", QQ, cat=\"Binary\")\n",
    "x = LpVariable.dicts(\"x\", EEk, cat=\"Binary\")\n",
    "z = LpVariable.dicts(\"z\", Bk, cat=\"Binary\")\n",
    "v = LpVariable.dicts(\"v\", Vk, lowBound=0, cat=\"Integer\")\n",
    "f = LpVariable.dicts(\"f\", Ek, lowBound=0, cat=\"Integer\")\n",
    "t = LpVariable.dicts(\"t\", EEk, lowBound=0, cat=\"Continuous\")\n",
    "s = LpVariable.dicts(\"s\", Bk, lowBound=0, cat=\"Continuous\")\n",
    "a = LpVariable.dicts(\"a\", Bk, lowBound=0, cat=\"Continuous\")\n",
    "w = LpVariable.dicts(\"w\", Bk, cat=\"Binary\")"
   ]
  },
  {
   "cell_type": "code",
   "execution_count": null,
   "id": "ea5d3d52",
   "metadata": {},
   "outputs": [],
   "source": []
  },
  {
   "cell_type": "markdown",
   "id": "58c4c0b0",
   "metadata": {},
   "source": [
    "## 3.3) Objective Function"
   ]
  },
  {
   "cell_type": "markdown",
   "id": "71d1cc11",
   "metadata": {},
   "source": [
    "\\begin{equation} \\label{eqn} \n",
    "    Maximize Z = \\frac{1}{2}\\sum_{q_{1} \\in Q} \\sum_{q_{2} \\in Q, \\\\ q_{1}\\neq q_{2}} P_{q_{1}q_{2}} * y_{q_{1}q_{2}}\n",
    "    \\end{equation}"
   ]
  },
  {
   "cell_type": "code",
   "execution_count": 9,
   "id": "ab6a0a06",
   "metadata": {},
   "outputs": [],
   "source": [
    "MPC_ARCP += 0.5*lpSum(Pqq[q1,q2]*y[q1,q2] for q1 in range(len(components)) for q2 in range(len(components)) if q2 != q1)"
   ]
  },
  {
   "cell_type": "markdown",
   "id": "22501c93",
   "metadata": {},
   "source": [
    "## 3.4) Constraints"
   ]
  },
  {
   "cell_type": "markdown",
   "id": "c6b17366",
   "metadata": {},
   "source": [
    "\\begin{equation}\n",
    "\ty_{q1q2} \\leq \\sum_{(i,j) \\in B, \\\\ i \\in V_{q_{1}}, \\\\ j \\in V_{q_{2}}, \\\\ k \\in K} z_{ijk} + z_{jik}, \\forall q_{1} \\in Q, q_{2} \\in Q, q_{1} \\neq q_{2}\n",
    "\t\\end{equation}"
   ]
  },
  {
   "cell_type": "code",
   "execution_count": 10,
   "id": "abc4f5a7",
   "metadata": {},
   "outputs": [],
   "source": [
    "for q1 in Q:\n",
    "    for q2 in Q:\n",
    "        if q1 != q2:\n",
    "            MPC_ARCP += y[q1,q2] <= lpSum([z[i,j,k] + z[j,i,k] \n",
    "                                       for (i,j) in B if i in Vq[q1] and j in Vq[q2] \n",
    "                                       for k in K])"
   ]
  },
  {
   "cell_type": "markdown",
   "id": "64cac1e9",
   "metadata": {},
   "source": [
    "### 3.4.1) Flow balance constraints"
   ]
  },
  {
   "cell_type": "markdown",
   "id": "8c73028f",
   "metadata": {},
   "source": [
    "#### 3.4.1.1) Flow at the depot\n",
    "\n",
    "\\begin{equation}\n",
    "    \\sum_{(d_{k},j) \\in E} \\sum_{(j,l) \\in E} x_{d_{k}jlk} = 1, \\forall k \\in K\n",
    "\t\\end{equation}"
   ]
  },
  {
   "cell_type": "code",
   "execution_count": 11,
   "id": "9fb2e2cf",
   "metadata": {},
   "outputs": [],
   "source": [
    "for k in K:\n",
    "    MPC_ARCP += lpSum([x[i,j,l,k] for (i,j,l) in EE if i == D[k]]) == 1"
   ]
  },
  {
   "cell_type": "markdown",
   "id": "e015d624",
   "metadata": {},
   "source": [
    "#### 3.4.1.2) Flow at the sink vertex\n",
    "\\begin{equation}\n",
    "    \\sum_{(i,j) \\in E,\\\\ j \\neq n+1} \\sum_{(j,n+1) \\in E} x_{ij(n+1)k} = 1, \\forall k \\in K\n",
    "\t\\end{equation}"
   ]
  },
  {
   "cell_type": "code",
   "execution_count": 12,
   "id": "04c1bd55",
   "metadata": {},
   "outputs": [],
   "source": [
    "for k in K:\n",
    "    MPC_ARCP += lpSum([x[i,j,l,k] for (i,j,l) in EE if l == sink and j != sink]) == 1"
   ]
  },
  {
   "cell_type": "markdown",
   "id": "fcb5045f",
   "metadata": {},
   "source": [
    "#### 3.4.1.3) Flow at the other nodes\n",
    "\\begin{equation}\n",
    "    x_{ijlk} \\leq \\sum_{(l,h) \\in E} x_{jlhk}, \\forall (i,j) \\in E, i\\neq d_{k}, (j,l) \\in E, l\\neq n+1, k \\in K\n",
    "\t\\end{equation}"
   ]
  },
  {
   "cell_type": "code",
   "execution_count": 13,
   "id": "53ad5fb1",
   "metadata": {},
   "outputs": [],
   "source": [
    "for k in K:\n",
    "    for (i,j,l) in EE:\n",
    "        if i != D[k]:\n",
    "            if l != sink:\n",
    "                MPC_ARCP += x[i,j,l,k] <= lpSum([x[j,l,h,k] for (w,m,h) in EE if w == j and m == l])"
   ]
  },
  {
   "cell_type": "markdown",
   "id": "9a76ae47",
   "metadata": {},
   "source": [
    "\\begin{equation}\n",
    "    x_{jlhk} \\leq \\sum_{(i,j) \\in E} x_{ijlk}, \\forall (j,l) \\in E, j\\neq d_{k}, (l,h) \\in E, k \\in K\n",
    "\t\\end{equation}"
   ]
  },
  {
   "cell_type": "code",
   "execution_count": 14,
   "id": "5231af29",
   "metadata": {},
   "outputs": [],
   "source": [
    "for k in K:\n",
    "    for (j,l,h) in EE:\n",
    "        if j != D[k]:\n",
    "            MPC_ARCP += x[j,l,h,k] <= lpSum([x[i,j,l,k] for (i,w,m) in EE if w == j and m == l])"
   ]
  },
  {
   "cell_type": "markdown",
   "id": "2e7eff49",
   "metadata": {},
   "source": [
    "\\begin{equation}\n",
    "    \\sum_{(j,l) \\in E} x_{ijlk} \\leq 1, \\forall (i,j) \\in E, j \\neq n+1, k \\in K\n",
    "\t\\end{equation}"
   ]
  },
  {
   "cell_type": "code",
   "execution_count": 15,
   "id": "5f2a7c69",
   "metadata": {},
   "outputs": [],
   "source": [
    "for k in K:\n",
    "    for (i,j) in E:\n",
    "        if j != sink:\n",
    "            MPC_ARCP += lpSum([x[i,j,l,k] for (w,m,l) in EE if w == i and m == j]) <= 1"
   ]
  },
  {
   "cell_type": "markdown",
   "id": "3ec16546",
   "metadata": {},
   "source": [
    "\\begin{equation}\n",
    "    \\sum_{(i,j) \\in E} x_{ijlk} \\leq 1, \\forall (j,l) \\in E, k \\in K\n",
    "\t\\end{equation}"
   ]
  },
  {
   "cell_type": "code",
   "execution_count": 16,
   "id": "a95ab8d2",
   "metadata": {},
   "outputs": [],
   "source": [
    "for k in K:\n",
    "    for (j,l) in E:\n",
    "        MPC_ARCP += lpSum([x[i,j,l,k] for (i,w,m) in EE if w == j and m == l]) <= 1"
   ]
  },
  {
   "cell_type": "markdown",
   "id": "269520ac",
   "metadata": {},
   "source": [
    "### 3.4.2) Unblocking coordination constraints"
   ]
  },
  {
   "cell_type": "markdown",
   "id": "9e944bd2",
   "metadata": {},
   "source": [
    "\\begin{equation}\n",
    "    \\sum_{(j,l) \\in E} x_{ijlk} \\geq z_{ijk}, \\forall (i,j) \\in B, k \\in K\n",
    "\t\\end{equation}"
   ]
  },
  {
   "cell_type": "code",
   "execution_count": 17,
   "id": "49c43779",
   "metadata": {},
   "outputs": [],
   "source": [
    "for k in K:\n",
    "    for (i,j) in B:\n",
    "        MPC_ARCP += lpSum([x[i,j,l,k] for (w,m,l) in EE if w == i and m == j]) >= z[i,j,k]"
   ]
  },
  {
   "cell_type": "markdown",
   "id": "1d9c85a3",
   "metadata": {},
   "source": [
    "\\begin{equation}\n",
    "    \\sum_{(j,l) \\in E} x_{ijlk} + \\sum_{(i,l) \\in E} x_{jilk} \\geq 2(\\sum_{\\alpha \\in K} z_{ij\\alpha} +  \\sum_{\\alpha \\in K} z_{ji\\alpha}), \\forall (i,j) \\in B, k \\in K\n",
    "\t\\end{equation}"
   ]
  },
  {
   "cell_type": "code",
   "execution_count": 18,
   "id": "debdeb8e",
   "metadata": {},
   "outputs": [],
   "source": [
    "for k in K:\n",
    "    for (i,j) in B:\n",
    "        MPC_ARCP += lpSum([x[i,j,l,k] for (w,m,l) in EE if w == i if m == j]) + lpSum([x[j,i,l,k] for (w,m,l) in EE if w == j if m == i]) <= 2*(lpSum([z[i,j,alpha] for (w,m,alpha) in Bk if w == i if m == j]) + lpSum([z[j,i,alpha] for (w,m,alpha) in Bk if w == j if m == i]))"
   ]
  },
  {
   "cell_type": "markdown",
   "id": "8c2daf79",
   "metadata": {},
   "source": [
    "\\begin{equation}\n",
    "    \\sum_{k \\in K} z_{ijk} + \\sum_{k \\in K} z_{jik} \\leq 2, \\forall (i,j) \\in B\n",
    "\t\\end{equation}"
   ]
  },
  {
   "cell_type": "code",
   "execution_count": 19,
   "id": "f4addfff",
   "metadata": {},
   "outputs": [],
   "source": [
    "for (i,j) in B:\n",
    "    MPC_ARCP += lpSum([z[i,j,k] for k in K]) + lpSum([z[j,i,k] for k in K]) <= 2"
   ]
  },
  {
   "cell_type": "markdown",
   "id": "17bc703d",
   "metadata": {},
   "source": [
    "\\begin{equation}\n",
    "    z_{ijk} + z_{jik} \\leq 1, \\forall (i,j) \\in B, k \\in K\n",
    "\t\\end{equation}"
   ]
  },
  {
   "cell_type": "code",
   "execution_count": 20,
   "id": "88b06877",
   "metadata": {},
   "outputs": [],
   "source": [
    "for k in K:\n",
    "    for (i,j) in B:\n",
    "        MPC_ARCP += z[i,j,k] + z[j,i,k] <= 1"
   ]
  },
  {
   "cell_type": "markdown",
   "id": "d4b8908d",
   "metadata": {},
   "source": [
    "### 3.4.3) Subtour elimination constraints"
   ]
  },
  {
   "cell_type": "markdown",
   "id": "2e717fee",
   "metadata": {},
   "source": [
    "\\begin{equation}\n",
    "    \\sum_{(j,i) \\in E} \\sum_{(i,l) \\in E} x_{jilk} = v_{ik}, \\forall k \\in K, i \\in V \\setminus \\{d_{k}, n+1\\}\n",
    "\t\\end{equation}"
   ]
  },
  {
   "cell_type": "code",
   "execution_count": 21,
   "id": "afc72efb",
   "metadata": {},
   "outputs": [],
   "source": [
    "for k in K:\n",
    "    for i in V:\n",
    "        if i != D[k]:\n",
    "            if i != sink:\n",
    "                MPC_ARCP += lpSum([x[j,i,l,k] for (j,w,l) in EE if w==i])== v[i, k]"
   ]
  },
  {
   "cell_type": "markdown",
   "id": "bbdba46c",
   "metadata": {},
   "source": [
    "\\begin{equation}\n",
    "    \\sum_{(i,j) \\in E} \\sum_{(j, n+1) \\in E} x_{ij(n+1)k} = v_{(n+1)k}, \\forall k \\in K\n",
    "\t\\end{equation}"
   ]
  },
  {
   "cell_type": "code",
   "execution_count": 22,
   "id": "b2324020",
   "metadata": {},
   "outputs": [],
   "source": [
    "for k in K:\n",
    "    MPC_ARCP += lpSum([x[i,j,sink,k] for (i,j,l) in EE if l==sink]) == v[sink, k]"
   ]
  },
  {
   "cell_type": "markdown",
   "id": "7276fd72",
   "metadata": {},
   "source": [
    "\\begin{equation}\n",
    "    \\sum_{(d_{k},j) \\in E} f_{d_{k}jk} - \\sum_{(j, d_{k}) \\in E} f_{jd_{k}k} = \\sum_{i \\in V \\\\ i \\neq d_{k}} v_{ik} ,\\forall k \\in K\n",
    "\t\\end{equation}"
   ]
  },
  {
   "cell_type": "code",
   "execution_count": 23,
   "id": "20569a0b",
   "metadata": {},
   "outputs": [],
   "source": [
    "for k in K:\n",
    "    dk = D[k]\n",
    "    MPC_ARCP += lpSum([f[dk,j,k] for (w,j) in E if w==dk]) - lpSum([f[j,dk,k] for (j, w) in E if w==dk]) == lpSum([v[i,k] for i in V if i != dk])"
   ]
  },
  {
   "cell_type": "markdown",
   "id": "195de9d6",
   "metadata": {},
   "source": [
    "\\begin{equation}\n",
    "    \\sum_{(j, n+1) \\in E} f_{j(n+1)k} = 1,\\forall k \\in K\n",
    "\t\\end{equation}"
   ]
  },
  {
   "cell_type": "code",
   "execution_count": 24,
   "id": "5d8a5133",
   "metadata": {},
   "outputs": [],
   "source": [
    "for k in K:\n",
    "    MPC_ARCP += lpSum([f[j,sink,k] for (j,w) in E if w==sink]) == 1"
   ]
  },
  {
   "cell_type": "markdown",
   "id": "8828f988",
   "metadata": {},
   "source": [
    "\\begin{equation}\n",
    "    f_{ijk} \\leq 2*(E)(\\sum_{(j,l) \\in E} x_{ijlk} ),\\forall k \\in K, (i,j) \\in E, j\\neq n+1\n",
    "\t\\end{equation}"
   ]
  },
  {
   "cell_type": "code",
   "execution_count": 25,
   "id": "61c2a059",
   "metadata": {},
   "outputs": [],
   "source": [
    "for k in K:\n",
    "    for (i,j) in E:\n",
    "        if j != sink:\n",
    "            MPC_ARCP += f[i,j,k] <= (2*len(E))*lpSum([x[i,j,l,k] for (w,m,l) in EE if w==i and m==j])"
   ]
  },
  {
   "cell_type": "markdown",
   "id": "8893e1ce",
   "metadata": {},
   "source": [
    "\\begin{equation}\n",
    "    f_{i(n+1)k} \\leq 2*(E)(\\sum_{(l,i) \\in E} x_{li(n+1)k} ),\\forall k \\in K, (i,n+1) \\in E\n",
    "\t\\end{equation}"
   ]
  },
  {
   "cell_type": "code",
   "execution_count": 26,
   "id": "717c45f5",
   "metadata": {},
   "outputs": [],
   "source": [
    "for k in K:\n",
    "    for (i,j) in E:\n",
    "        if j == sink:\n",
    "            MPC_ARCP += f[i,j,k] <= (2*len(E))*lpSum([x[l,i,j,k] for (l,w,m) in EE if w==i and m==j])"
   ]
  },
  {
   "cell_type": "markdown",
   "id": "c6c3eee1",
   "metadata": {},
   "source": [
    "\\begin{equation}\n",
    "    f_{ijk} - 1 \\geq f_{jlk} - 2*(E)(1- x_{ijlk}), \\forall k \\in K, (i,j) \\in E, (j,l) \\in E, j\\neq n+1\n",
    "\t\\end{equation}"
   ]
  },
  {
   "cell_type": "code",
   "execution_count": 27,
   "id": "27210d99",
   "metadata": {},
   "outputs": [],
   "source": [
    "for k in K:\n",
    "    for (i,j,l) in EE:\n",
    "        if i != sink:\n",
    "            if j != sink:\n",
    "                MPC_ARCP += f[i,j,k] - 1 >= f[j,l,k] - 2*(len(E))*(1-x[i,j,l,k]) "
   ]
  },
  {
   "cell_type": "markdown",
   "id": "dbcab955",
   "metadata": {},
   "source": [
    "### 3.4.4) Teams synchronization constraints"
   ]
  },
  {
   "cell_type": "markdown",
   "id": "04e5879d",
   "metadata": {},
   "source": [
    "\\begin{equation}\n",
    "    t_{ijlk} \\leq t_{max}(x_{ijlk}), \\forall k \\in K, (i,j) \\in E, (j,l) \\in E, j\\neq n+1\n",
    "\t\\end{equation}"
   ]
  },
  {
   "cell_type": "code",
   "execution_count": 28,
   "id": "b482d4af",
   "metadata": {},
   "outputs": [],
   "source": [
    "for k in K:\n",
    "    for (i,j,l) in EE:\n",
    "        MPC_ARCP += t[i,j,l,k] <= t_max*x[i,j,l,k]"
   ]
  },
  {
   "cell_type": "markdown",
   "id": "6a707f1b",
   "metadata": {},
   "source": [
    "\\begin{equation} \n",
    "    \\sum_{(j,l) \\in E} t_{ijlk} \\geq \\sum_{(h,i) \\in E} t_{hijk} + c_{ij}(\\sum_{(j,l) \\in E} x_{ijlk}), \\forall k \\in K, (i,j) \\in E \\setminus B, j\\neq n+1\n",
    "\t\\end{equation}"
   ]
  },
  {
   "cell_type": "code",
   "execution_count": 29,
   "id": "8e50169c",
   "metadata": {},
   "outputs": [],
   "source": [
    "for k in K:\n",
    "    for (i,j) in E:\n",
    "        if (i,j) not in B:\n",
    "            if j != sink:\n",
    "                MPC_ARCP += lpSum([t[i,j,l,k] for (w,m,l) in EE if w==i and m==j]) >= lpSum([t[h,i,j,k] for (h,w,m) in EE if w==i and m==j]) + cij[i,j]*lpSum([x[i,j,l,k] for (w,m,l) in EE if w==i and m==j])"
   ]
  },
  {
   "cell_type": "markdown",
   "id": "2fe166c8",
   "metadata": {},
   "source": [
    "\\begin{equation}\n",
    "    s_{ijk} \\geq \\sum_{(h,i) \\in E} t_{hijk}, \\forall k \\in K, (i,j) \\in B\n",
    "\t\\end{equation}"
   ]
  },
  {
   "cell_type": "code",
   "execution_count": 30,
   "id": "e151a9f6",
   "metadata": {},
   "outputs": [],
   "source": [
    "for k in K:\n",
    "    for (i,j) in B:\n",
    "        MPC_ARCP += s[i,j,k] >= lpSum([t[h,i,j,k] for (h,o,m) in EE if o==i and m==j])"
   ]
  },
  {
   "cell_type": "markdown",
   "id": "24d414a8",
   "metadata": {},
   "source": [
    "\\begin{equation}\n",
    "    \\sum_{(i,h) \\in E} t_{hijk} - s_{ijk} \\leq M_{t}(1-z_{ijk}), \\forall k \\in K, (i,j) \\in B\n",
    "\t\\end{equation}"
   ]
  },
  {
   "cell_type": "code",
   "execution_count": 31,
   "id": "b6f753c8",
   "metadata": {},
   "outputs": [],
   "source": [
    "for k in K:\n",
    "    for (i,j) in B:\n",
    "        MPC_ARCP += lpSum([t[h,i,j,k] for (h,o,m) in EE if o==i and m==j]) -s[i,j,k] <= M_time*(1-z[i,j,k])"
   ]
  },
  {
   "cell_type": "markdown",
   "id": "ff8b0b80",
   "metadata": {},
   "source": [
    "\\begin{equation}\n",
    "    - s_{ijk} + \\sum_{(i,h) \\in E} t_{hij\\alpha}  \\leq M_{t}(1-z_{ij\\alpha}) + 2M_{t}(\\sum_{(i,h) \\in E} x_{hijk}), \\forall k \\in K, \\alpha \\in K, k \\neq \\alpha, (i,j) \\in B\n",
    "\t\\end{equation}"
   ]
  },
  {
   "cell_type": "code",
   "execution_count": 32,
   "id": "3e44782d",
   "metadata": {},
   "outputs": [],
   "source": [
    "for k in K:\n",
    "    for alpha in K:\n",
    "        if k != alpha:\n",
    "            for (i,j) in B:\n",
    "                MPC_ARCP += -s[i,j,k] + lpSum([t[i,j,l,alpha] for (o,m,l) in EE if o==i and m==j]) <= M_time*(1-z[i,j,alpha]) + 2*M_time*(1-lpSum([x[h,i,j,k] for (h,o,m) in EE if o==i and m==j]))"
   ]
  },
  {
   "cell_type": "markdown",
   "id": "79dc2a1d",
   "metadata": {},
   "source": [
    "### 3.4.5) Collaboration between teams constraints"
   ]
  },
  {
   "cell_type": "markdown",
   "id": "e6a900cd",
   "metadata": {},
   "source": [
    "\\begin{equation}\n",
    "    \\sum_{(h,i) \\in E} t_{hijk} \\geq s_{ijk} + a_{ijk} + c_{ij}(\\sum_{(j,l) \\in E} x_{ijlk}), \\forall k \\in K, (i,j) \\in B\n",
    "\t\\end{equation}"
   ]
  },
  {
   "cell_type": "code",
   "execution_count": 33,
   "id": "54ce54e9",
   "metadata": {},
   "outputs": [],
   "source": [
    "for k in K:\n",
    "    for (i,j) in B:\n",
    "        MPC_ARCP += lpSum([t[i,j,l,k] for (o,m,l) in EE if o==i and m==j]) >= s[i,j,k] + a[i,j,k] + cij[i,j]*lpSum([x[i,j,l,k] for (o,m,l) in EE if o==i and m==j])"
   ]
  },
  {
   "cell_type": "markdown",
   "id": "0b5e094f",
   "metadata": {},
   "source": [
    "\\begin{equation}\n",
    "    a_{ijk} \\leq b_{ij}*z_{ijk}, \\forall k \\in K, (i,j) \\in B\n",
    "\t\\end{equation}"
   ]
  },
  {
   "cell_type": "code",
   "execution_count": 34,
   "id": "f377553e",
   "metadata": {},
   "outputs": [],
   "source": [
    "for k in K:\n",
    "    for (i,j) in B:\n",
    "        MPC_ARCP += a[i,j,k] <= bij[i,j]*z[i,j,k]"
   ]
  },
  {
   "cell_type": "markdown",
   "id": "5d2a84b5",
   "metadata": {},
   "source": [
    "\\begin{equation}\n",
    "    a_{ijk} - b_{ij} \\geq M_{t}*(-1 + z_{ijk} - \\sum_{\\alpha \\in K,\\\\ \\alpha \\neq K} z_{ji\\alpha}), \\forall k \\in K, (i,j) \\in B\n",
    "\t\\end{equation}"
   ]
  },
  {
   "cell_type": "code",
   "execution_count": 35,
   "id": "620663f2",
   "metadata": {},
   "outputs": [],
   "source": [
    "for k in K:\n",
    "    for (i,j) in B:\n",
    "        MPC_ARCP += a[i,j,k] - bij[i,j] >= M_time*(-1 + z[i,j,k] - lpSum([z[j,i,alpha] for (w,m) in B if w==j and m==i for alpha in K if alpha != k]))"
   ]
  },
  {
   "cell_type": "markdown",
   "id": "454c1c35",
   "metadata": {},
   "source": [
    "\\begin{equation}\n",
    "   2a_{ijk} - b_{ij} + \\sum_{(h,i) \\in E} t_{hijk} - \\sum_{(h,j) \\in E} t_{hji\\alpha} \\geq -M_{t}(3 - z_{ijk} - z_{ij\\alpha} - w_{ijk}), \\forall (i,j) \\in B, k \\in K, \\alpha \\in K, k \\neq \\alpha \n",
    "\t\\end{equation}"
   ]
  },
  {
   "cell_type": "code",
   "execution_count": 36,
   "id": "2039f3c1",
   "metadata": {},
   "outputs": [],
   "source": [
    "for k in K:\n",
    "    for alpha in K:\n",
    "        if k != alpha:\n",
    "            for (i,j) in B:\n",
    "                MPC_ARCP += 2*a[i,j,k] -bij[i,j] + lpSum([t[h,i,j,k] for (h,w,m) in EE if w==i and m==j]) - lpSum([t[h,j,i,alpha] for (h,w,m) in EE if w==j and m==i]) >= -M_time*(3-z[i,j,k]-z[j,i,alpha]-w[i,j,k])"
   ]
  },
  {
   "cell_type": "markdown",
   "id": "82154d20",
   "metadata": {},
   "source": [
    "\\begin{equation}\n",
    "   2a_{ji\\alpha} - b_{ij} + \\sum_{(h,j) \\in E} t_{hji\\alpha} - \\sum_{(h,i) \\in E} t_{hijk} \\geq -M_{t}(3 - z_{ijk} - z_{ij\\alpha} - w_{ijk}), \\forall (i,j) \\in B, k \\in K, \\alpha \\in K, k \\neq \\alpha \n",
    "\t\\end{equation}"
   ]
  },
  {
   "cell_type": "code",
   "execution_count": 37,
   "id": "d0708682",
   "metadata": {},
   "outputs": [],
   "source": [
    "for k in K:\n",
    "    for alpha in K:\n",
    "        if k != alpha:\n",
    "            for (i,j) in B:\n",
    "                MPC_ARCP += 2*a[j,i,alpha] - bij[i,j] + lpSum([t[h,j,i,alpha] for (h,w,m) in EE if w==j and m==i]) - lpSum([t[h,i,j,k] for (h,w,m) in EE if w==i and m==j]) >= -M_time*(3-z[i,j,k]-z[j,i,alpha]-w[i,j,k])"
   ]
  },
  {
   "cell_type": "markdown",
   "id": "694ab780",
   "metadata": {},
   "source": [
    "\\begin{equation}\n",
    "   z_{ijk} \\geq w_{ijk}, \\forall (i,j) \\in B, k \\in K \n",
    "\t\\end{equation}"
   ]
  },
  {
   "cell_type": "code",
   "execution_count": 38,
   "id": "c2f62fd7",
   "metadata": {},
   "outputs": [],
   "source": [
    "for k in K:\n",
    "    for (i,j) in B:\n",
    "        MPC_ARCP += z[i,j,k] >= w[i,j,k]"
   ]
  },
  {
   "cell_type": "markdown",
   "id": "c4cee198",
   "metadata": {},
   "source": [
    "\\begin{equation}\n",
    "    \\sum_{(h,i) \\in E} t_{hijk} - \\sum_{(h,j) \\in E} t_{hji\\alpha} \\geq M_{t}(w_{ji\\alpha} - 1) + 2*M_{t}(z_{ijk} + z_{ij\\alpha} - 2), \\forall (i,j) \\in B, k \\in K, \\alpha \\in K, k \\neq \\alpha \n",
    "\t\\end{equation}"
   ]
  },
  {
   "cell_type": "code",
   "execution_count": 39,
   "id": "0653bc37",
   "metadata": {},
   "outputs": [],
   "source": [
    "for k in K:\n",
    "    for alpha in K:\n",
    "        if k != alpha:\n",
    "            for (i,j) in B:\n",
    "                MPC_ARCP += lpSum([t[h,i,j,k] for (h,w,m) in EE if w==i and m==j]) - lpSum([t[h,j,i,alpha] for (h,w,m) in EE if w==j and m==i]) >= M_time*(w[j,i,alpha] - 1) + 2*M_time*(z[i,j,k] + z[j,i,alpha] - 2)"
   ]
  },
  {
   "cell_type": "markdown",
   "id": "9648e34b",
   "metadata": {},
   "source": [
    "\\begin{equation}\n",
    "    -1 + z_{ijk} + z_{ji\\alpha} \\leq w_{ijk} + w_{ji\\alpha}, \\forall (i,j) \\in B, k \\in K, \\alpha \\in K, k \\neq \\alpha \n",
    "\t\\end{equation}"
   ]
  },
  {
   "cell_type": "code",
   "execution_count": 40,
   "id": "13932f4e",
   "metadata": {},
   "outputs": [],
   "source": [
    "for k in K:\n",
    "    for alpha in K:\n",
    "        if k != alpha:\n",
    "            for (i,j) in B:\n",
    "                MPC_ARCP += -1 + z[i,j,k] + z[j,i,alpha] <= w[i,j,k] + w[j,i,alpha]"
   ]
  },
  {
   "cell_type": "markdown",
   "id": "dbe2a568",
   "metadata": {},
   "source": [
    "\\begin{equation}\n",
    "    f_{ijk} - f_{jik} -1 \\geq M*(z_{ijk}-1), \\forall (i,j) \\in B, k \\in K\n",
    "\t\\end{equation}"
   ]
  },
  {
   "cell_type": "code",
   "execution_count": 41,
   "id": "610d1dcd",
   "metadata": {},
   "outputs": [],
   "source": [
    "for k in K:\n",
    "    for (i,j) in B:\n",
    "        MPC_ARCP += f[i,j,k] - f[j,i,k] - 1 >= 2*(len(E))*(z[i,j,k]-1)"
   ]
  },
  {
   "cell_type": "markdown",
   "id": "36b5e8ba",
   "metadata": {},
   "source": [
    "\\begin{equation}\n",
    "    s_{ji\\alpha} - \\sum_{(j,l) \\in E} t_{ijlk} \\geq M*(z_{ijk}-z_{ji\\alpha}-1) + 2M_{t}(\\sum_{(i,l) \\in E} x_{jil\\alpha}), \\forall k \\in K, \\alpha \\in K, k \\neq \\alpha, (i,j) \\in B\n",
    "\t\\end{equation}"
   ]
  },
  {
   "cell_type": "code",
   "execution_count": 42,
   "id": "06984447",
   "metadata": {},
   "outputs": [],
   "source": [
    "for k in K:\n",
    "    for alpha in K:\n",
    "        if k != alpha:\n",
    "            for (i,j) in B:\n",
    "                MPC_ARCP += s[j,i,alpha] - lpSum([t[i,j,l,k] for (o,m,l) in EE if o==i and m==j]) >= M_time*(z[i,j,k]-z[j,i,alpha]-1) + 2*M_time*(-1 + lpSum([x[j,i,l,alpha] for (m,o,l) in EE if o==i and m==j]))"
   ]
  },
  {
   "cell_type": "markdown",
   "id": "0927a02b",
   "metadata": {},
   "source": [
    "\\begin{equation}\n",
    "    a_{ijk} + a_{ji\\alpha} - b_{ij} \\leq -M*(w_{ijk}-1), \\forall k \\in K, \\alpha \\in K, k \\neq \\alpha, (i,j) \\in B\n",
    "\t\\end{equation}"
   ]
  },
  {
   "cell_type": "code",
   "execution_count": 43,
   "id": "1798a729",
   "metadata": {},
   "outputs": [],
   "source": [
    "for k in K:\n",
    "    for alpha in K:\n",
    "        if k != alpha:\n",
    "            for (i,j) in B:\n",
    "                MPC_ARCP += a[i,j,k] + a[j,i,alpha] - bij[i,j] <= -M_time*(w[i,j,k]-1)"
   ]
  },
  {
   "cell_type": "markdown",
   "id": "fb11be61",
   "metadata": {},
   "source": [
    "## 3.5) Solver"
   ]
  },
  {
   "cell_type": "code",
   "execution_count": 44,
   "id": "50f67b31",
   "metadata": {},
   "outputs": [],
   "source": [
    "#Calling the desired solver\n",
    "if solver == \"GUROBI\":\n",
    "    status = LpStatus[MPC_ARCP.solve(GUROBI_CMD(timeLimit = processing_time_limit, keepFiles = True))]\n",
    "else:\n",
    "    status = LpStatus[MPC_ARCP.solve(PULP_CBC_CMD(timeLimit = processing_time_limit, keepFiles = True))]"
   ]
  },
  {
   "cell_type": "markdown",
   "id": "3deced29",
   "metadata": {},
   "source": [
    "### 3.5.1) Display the results"
   ]
  },
  {
   "cell_type": "code",
   "execution_count": 45,
   "id": "9b1e2584",
   "metadata": {},
   "outputs": [
    {
     "name": "stdout",
     "output_type": "stream",
     "text": [
      "Processing time = 180.5226147 seconds\n",
      "--------\n",
      "The problem is Optimal\n",
      "Objective Function Value =  19.0\n",
      "--------\n",
      "a_(2,_3,_0) = 15.0\n",
      "a_(2,_4,_1) = 8.499999999999996\n",
      "a_(4,_2,_2) = 11.500000000000004\n",
      "f_(0,_2,_0) = 3.0\n",
      "f_(0,_2,_1) = 5.0\n",
      "f_(11,_15,_1) = 1.0\n",
      "f_(2,_15,_2) = 1.0\n",
      "f_(2,_3,_0) = 2.0\n",
      "f_(2,_4,_1) = 4.0\n",
      "f_(3,_15,_0) = 1.0\n",
      "f_(4,_2,_2) = 2.0\n",
      "f_(4,_5,_1) = 3.0\n",
      "f_(5,_11,_1) = 2.0\n",
      "f_(5,_4,_2) = 3.0\n",
      "s_(2,_3,_0) = 8.0\n",
      "s_(2,_4,_1) = 7.670000000000005\n",
      "s_(4,_2,_2) = 2.830000000000002\n",
      "t_(0,_2,_3,_0) = 8.0\n",
      "t_(0,_2,_4,_1) = 5.830000000000005\n",
      "t_(2,_3,_15,_0) = 25.0\n",
      "t_(2,_4,_5,_1) = 21.17\n",
      "t_(4,_2,_15,_2) = 19.330000000000005\n",
      "t_(4,_5,_11,_1) = 24.0\n",
      "t_(5,_11,_15,_1) = 25.0\n",
      "t_(5,_4,_2,_2) = 2.83\n",
      "v_(11,_1) = 1.0\n",
      "v_(15,_0) = 1.0\n",
      "v_(15,_1) = 1.0\n",
      "v_(15,_2) = 1.0\n",
      "v_(2,_0) = 1.0\n",
      "v_(2,_1) = 1.0\n",
      "v_(2,_2) = 1.0\n",
      "v_(3,_0) = 1.0\n",
      "v_(4,_1) = 1.0\n",
      "v_(4,_2) = 1.0\n",
      "v_(5,_1) = 1.0\n",
      "w_(4,_2,_2) = 1.0\n",
      "x_(0,_2,_3,_0) = 1.0\n",
      "x_(0,_2,_4,_1) = 1.0\n",
      "x_(2,_3,_15,_0) = 1.0\n",
      "x_(2,_4,_5,_1) = 1.0\n",
      "x_(4,_2,_15,_2) = 1.0\n",
      "x_(4,_5,_11,_1) = 1.0\n",
      "x_(5,_11,_15,_1) = 1.0\n",
      "x_(5,_4,_2,_2) = 1.0\n",
      "y_(0,_1) = 1.0\n",
      "y_(0,_3) = 1.0\n",
      "y_(1,_0) = 1.0\n",
      "y_(3,_0) = 1.0\n",
      "z_(2,_3,_0) = 1.0\n",
      "z_(2,_4,_1) = 1.0\n",
      "z_(4,_2,_2) = 1.0\n"
     ]
    }
   ],
   "source": [
    "#Stop time performance counter\n",
    "end_time = time.perf_counter()\n",
    "\n",
    "#Print the processing time\n",
    "print(f\"Processing time = {end_time - start_time} seconds\")\n",
    "print(\"--------\")\n",
    "\n",
    "#Print the status of the problem\n",
    "print(f\"The problem is {status}\")\n",
    "\n",
    "#Print the objective function value\n",
    "objective_function = pulp.value(MPC_ARCP.objective)\n",
    "print(\"Objective Function Value = \", objective_function)\n",
    "print(\"--------\")\n",
    "\n",
    "#If the problem is optimal, print the positive decision variables\n",
    "if status == \"Optimal\":\n",
    "    for var in MPC_ARCP.variables():\n",
    "        if var.varValue > 0:\n",
    "            print(f\"{var.name} = {var.varValue}\")"
   ]
  },
  {
   "cell_type": "markdown",
   "id": "42afa2bc",
   "metadata": {},
   "source": [
    "# Display the results"
   ]
  },
  {
   "cell_type": "code",
   "execution_count": 46,
   "id": "b763491c",
   "metadata": {},
   "outputs": [
    {
     "data": {
      "image/png": "[encoded data removed]",
      "text/plain": [
       "<Figure size 432x288 with 1 Axes>"
      ]
     },
     "metadata": {},
     "output_type": "display_data"
    },
    {
     "data": {
      "image/png": "[encoded data removed]",
      "text/plain": [
       "<Figure size 432x288 with 1 Axes>"
      ]
     },
     "metadata": {},
     "output_type": "display_data"
    },
    {
     "data": {
      "image/png": "[encoded data removed]",
      "text/plain": [
       "<Figure size 432x288 with 1 Axes>"
      ]
     },
     "metadata": {},
     "output_type": "display_data"
    }
   ],
   "source": [
    "#Organize the values of the decision variables\n",
    "all_paths = get_f_values(MPC_ARCP, K)\n",
    "all_routes = organize_teams_routes(all_paths)\n",
    "\n",
    "#Save the results in a text file\n",
    "save_RC_variables(end_time - start_time, instance_name, len(all_routes), \n",
    "                      objective_function, all_routes, MPC_ARCP)\n",
    "\n",
    "if display_results == True:\n",
    "    #Create the images of the network and the teams' routes\n",
    "    data_visualization(E_no_sink, coordinates, open_road_color, closed_road_color, nodesize, \n",
    "                       nodecolor, nodeboundary, instance_name, all_routes, B, team_color)"
   ]
  },
  {
   "cell_type": "code",
   "execution_count": null,
   "id": "8e8197b2",
   "metadata": {},
   "outputs": [],
   "source": []
  }
 ],
 "metadata": {
  "kernelspec": {
   "display_name": "Python 3 (ipykernel)",
   "language": "python",
   "name": "python3"
  },
  "language_info": {
   "codemirror_mode": {
    "name": "ipython",
    "version": 3
   },
   "file_extension": ".py",
   "mimetype": "text/x-python",
   "name": "python",
   "nbconvert_exporter": "python",
   "pygments_lexer": "ipython3",
   "version": "3.9.7"
  }
 },
 "nbformat": 4,
 "nbformat_minor": 5
}
